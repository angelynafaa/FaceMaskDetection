{
  "nbformat": 4,
  "nbformat_minor": 0,
  "metadata": {
    "accelerator": "GPU",
    "colab": {
      "name": "FaceMaskDetection.ipynb",
      "provenance": [],
      "authorship_tag": "ABX9TyNJW0wuJNZKEBJOfhSgHXsS",
      "include_colab_link": true
    },
    "kernelspec": {
      "display_name": "Python 3",
      "name": "python3"
    },
    "widgets": {
      "application/vnd.jupyter.widget-state+json": {
        "3989de61769e4a3ebd7484640f2b2c3b": {
          "model_module": "@jupyter-widgets/controls",
          "model_name": "HBoxModel",
          "state": {
            "_dom_classes": [],
            "_model_module": "@jupyter-widgets/controls",
            "_model_module_version": "1.5.0",
            "_model_name": "HBoxModel",
            "_view_count": null,
            "_view_module": "@jupyter-widgets/controls",
            "_view_module_version": "1.5.0",
            "_view_name": "HBoxView",
            "box_style": "",
            "children": [
              "IPY_MODEL_ea9057039e1344bc9e1625db4bdc55ac",
              "IPY_MODEL_ea152b3f28354aac8e25eaf3b5cba680"
            ],
            "layout": "IPY_MODEL_93e50d56d6e44b15bd2d6026bb2fec1b"
          }
        },
        "ea9057039e1344bc9e1625db4bdc55ac": {
          "model_module": "@jupyter-widgets/controls",
          "model_name": "FloatProgressModel",
          "state": {
            "_dom_classes": [],
            "_model_module": "@jupyter-widgets/controls",
            "_model_module_version": "1.5.0",
            "_model_name": "FloatProgressModel",
            "_view_count": null,
            "_view_module": "@jupyter-widgets/controls",
            "_view_module_version": "1.5.0",
            "_view_name": "ProgressView",
            "bar_style": "success",
            "description": "",
            "description_tooltip": null,
            "layout": "IPY_MODEL_e11e98bace934f958f2ad9bdfd8afb43",
            "max": 1,
            "min": 0,
            "orientation": "horizontal",
            "style": "IPY_MODEL_2329b1ed55484c04941ff384bbc55ad9",
            "value": 1
          }
        },
        "ea152b3f28354aac8e25eaf3b5cba680": {
          "model_module": "@jupyter-widgets/controls",
          "model_name": "HTMLModel",
          "state": {
            "_dom_classes": [],
            "_model_module": "@jupyter-widgets/controls",
            "_model_module_version": "1.5.0",
            "_model_name": "HTMLModel",
            "_view_count": null,
            "_view_module": "@jupyter-widgets/controls",
            "_view_module_version": "1.5.0",
            "_view_name": "HTMLView",
            "description": "",
            "description_tooltip": null,
            "layout": "IPY_MODEL_7abb674bbbb247aea2ee8326bc78a352",
            "placeholder": "​",
            "style": "IPY_MODEL_0bb542e82cfa423da616125228f2a24b",
            "value": " 7553/? [00:02&lt;00:00, 2684.77it/s]"
          }
        },
        "93e50d56d6e44b15bd2d6026bb2fec1b": {
          "model_module": "@jupyter-widgets/base",
          "model_name": "LayoutModel",
          "state": {
            "_model_module": "@jupyter-widgets/base",
            "_model_module_version": "1.2.0",
            "_model_name": "LayoutModel",
            "_view_count": null,
            "_view_module": "@jupyter-widgets/base",
            "_view_module_version": "1.2.0",
            "_view_name": "LayoutView",
            "align_content": null,
            "align_items": null,
            "align_self": null,
            "border": null,
            "bottom": null,
            "display": null,
            "flex": null,
            "flex_flow": null,
            "grid_area": null,
            "grid_auto_columns": null,
            "grid_auto_flow": null,
            "grid_auto_rows": null,
            "grid_column": null,
            "grid_gap": null,
            "grid_row": null,
            "grid_template_areas": null,
            "grid_template_columns": null,
            "grid_template_rows": null,
            "height": null,
            "justify_content": null,
            "justify_items": null,
            "left": null,
            "margin": null,
            "max_height": null,
            "max_width": null,
            "min_height": null,
            "min_width": null,
            "object_fit": null,
            "object_position": null,
            "order": null,
            "overflow": null,
            "overflow_x": null,
            "overflow_y": null,
            "padding": null,
            "right": null,
            "top": null,
            "visibility": null,
            "width": null
          }
        },
        "e11e98bace934f958f2ad9bdfd8afb43": {
          "model_module": "@jupyter-widgets/base",
          "model_name": "LayoutModel",
          "state": {
            "_model_module": "@jupyter-widgets/base",
            "_model_module_version": "1.2.0",
            "_model_name": "LayoutModel",
            "_view_count": null,
            "_view_module": "@jupyter-widgets/base",
            "_view_module_version": "1.2.0",
            "_view_name": "LayoutView",
            "align_content": null,
            "align_items": null,
            "align_self": null,
            "border": null,
            "bottom": null,
            "display": null,
            "flex": null,
            "flex_flow": null,
            "grid_area": null,
            "grid_auto_columns": null,
            "grid_auto_flow": null,
            "grid_auto_rows": null,
            "grid_column": null,
            "grid_gap": null,
            "grid_row": null,
            "grid_template_areas": null,
            "grid_template_columns": null,
            "grid_template_rows": null,
            "height": null,
            "justify_content": null,
            "justify_items": null,
            "left": null,
            "margin": null,
            "max_height": null,
            "max_width": null,
            "min_height": null,
            "min_width": null,
            "object_fit": null,
            "object_position": null,
            "order": null,
            "overflow": null,
            "overflow_x": null,
            "overflow_y": null,
            "padding": null,
            "right": null,
            "top": null,
            "visibility": null,
            "width": null
          }
        },
        "2329b1ed55484c04941ff384bbc55ad9": {
          "model_module": "@jupyter-widgets/controls",
          "model_name": "ProgressStyleModel",
          "state": {
            "_model_module": "@jupyter-widgets/controls",
            "_model_module_version": "1.5.0",
            "_model_name": "ProgressStyleModel",
            "_view_count": null,
            "_view_module": "@jupyter-widgets/base",
            "_view_module_version": "1.2.0",
            "_view_name": "StyleView",
            "bar_color": null,
            "description_width": "initial"
          }
        },
        "7abb674bbbb247aea2ee8326bc78a352": {
          "model_module": "@jupyter-widgets/base",
          "model_name": "LayoutModel",
          "state": {
            "_model_module": "@jupyter-widgets/base",
            "_model_module_version": "1.2.0",
            "_model_name": "LayoutModel",
            "_view_count": null,
            "_view_module": "@jupyter-widgets/base",
            "_view_module_version": "1.2.0",
            "_view_name": "LayoutView",
            "align_content": null,
            "align_items": null,
            "align_self": null,
            "border": null,
            "bottom": null,
            "display": null,
            "flex": null,
            "flex_flow": null,
            "grid_area": null,
            "grid_auto_columns": null,
            "grid_auto_flow": null,
            "grid_auto_rows": null,
            "grid_column": null,
            "grid_gap": null,
            "grid_row": null,
            "grid_template_areas": null,
            "grid_template_columns": null,
            "grid_template_rows": null,
            "height": null,
            "justify_content": null,
            "justify_items": null,
            "left": null,
            "margin": null,
            "max_height": null,
            "max_width": null,
            "min_height": null,
            "min_width": null,
            "object_fit": null,
            "object_position": null,
            "order": null,
            "overflow": null,
            "overflow_x": null,
            "overflow_y": null,
            "padding": null,
            "right": null,
            "top": null,
            "visibility": null,
            "width": null
          }
        },
        "0bb542e82cfa423da616125228f2a24b": {
          "model_module": "@jupyter-widgets/controls",
          "model_name": "DescriptionStyleModel",
          "state": {
            "_model_module": "@jupyter-widgets/controls",
            "_model_module_version": "1.5.0",
            "_model_name": "DescriptionStyleModel",
            "_view_count": null,
            "_view_module": "@jupyter-widgets/base",
            "_view_module_version": "1.2.0",
            "_view_name": "StyleView",
            "description_width": ""
          }
        }
      }
    }
  },
  "cells": [
    {
      "cell_type": "markdown",
      "metadata": {
        "id": "view-in-github",
        "colab_type": "text"
      },
      "source": [
        "<a href=\"https://colab.research.google.com/github/zanuarts/FaceMaskDetection/blob/master/FaceMaskDetection.ipynb\" target=\"_parent\"><img src=\"https://colab.research.google.com/assets/colab-badge.svg\" alt=\"Open In Colab\"/></a>"
      ]
    },
    {
      "cell_type": "markdown",
      "metadata": {
        "id": "izu5LCToqBDt"
      },
      "source": [
        "# Face Mask Classification\r\n",
        "\r\n",
        "\r\n",
        "---\r\n",
        "\r\n",
        "## Load dataset from kaggle"
      ]
    },
    {
      "cell_type": "code",
      "metadata": {
        "id": "3UBOCmGYnF62"
      },
      "source": [
        "import os\r\n",
        "os.environ['KAGGLE_USERNAME']= 'username'\r\n",
        "os.environ['KAGGLE_KEY'] = 'key'"
      ],
      "execution_count": null,
      "outputs": []
    },
    {
      "cell_type": "code",
      "metadata": {
        "colab": {
          "base_uri": "https://localhost:8080/"
        },
        "id": "BjYPipvunMOs",
        "outputId": "1aa7c7ad-447e-48ca-ec88-aed7f4f0c153"
      },
      "source": [
        "!kaggle datasets download -d omkargurav/face-mask-dataset"
      ],
      "execution_count": null,
      "outputs": [
        {
          "output_type": "stream",
          "text": [
            "Downloading face-mask-dataset.zip to /content\n",
            " 88% 143M/163M [00:00<00:00, 151MB/s]\n",
            "100% 163M/163M [00:00<00:00, 175MB/s]\n"
          ],
          "name": "stdout"
        }
      ]
    },
    {
      "cell_type": "code",
      "metadata": {
        "id": "G6KWfRLFngJo"
      },
      "source": [
        "import zipfile\r\n",
        "\r\n",
        "local_zip = '/content/face-mask-dataset.zip'\r\n",
        "zip_ref = zipfile.ZipFile(local_zip, 'r')\r\n",
        "zip_ref.extractall('/content/')\r\n",
        "zip_ref.close()"
      ],
      "execution_count": null,
      "outputs": []
    },
    {
      "cell_type": "code",
      "metadata": {
        "id": "LneAbf9Vn7Qm"
      },
      "source": [
        "path = '/content/data'\r\n",
        "\r\n",
        "file_name = []\r\n",
        "tag = []\r\n",
        "full_path = []\r\n",
        "for path, subdirs, files in os.walk(path):\r\n",
        "  for name in files:\r\n",
        "    full_path.append(os.path.join(path, name))\r\n",
        "    tag.append(path.split('/')[-1])\r\n",
        "    file_name.append(name)"
      ],
      "execution_count": null,
      "outputs": []
    },
    {
      "cell_type": "markdown",
      "metadata": {
        "id": "NJZ5NHAWu-jI"
      },
      "source": [
        "## Labeling dataset"
      ]
    },
    {
      "cell_type": "code",
      "metadata": {
        "colab": {
          "base_uri": "https://localhost:8080/"
        },
        "id": "rUQ8gEvVokbc",
        "outputId": "82940ada-b9dd-4304-ea8a-9af28b52998e"
      },
      "source": [
        "import pandas as pd\r\n",
        "\r\n",
        "df = pd.DataFrame({\"path\":full_path, \"file_name\": file_name, \"tag\":tag})\r\n",
        "df.groupby(['tag']).size()"
      ],
      "execution_count": null,
      "outputs": [
        {
          "output_type": "execute_result",
          "data": {
            "text/plain": [
              "tag\n",
              "with_mask       3725\n",
              "without_mask    3828\n",
              "dtype: int64"
            ]
          },
          "metadata": {
            "tags": []
          },
          "execution_count": 5
        }
      ]
    },
    {
      "cell_type": "code",
      "metadata": {
        "colab": {
          "base_uri": "https://localhost:8080/"
        },
        "id": "Si7-MUmC38gl",
        "outputId": "3121fa03-b696-469d-c8b4-2827d5d0bef9"
      },
      "source": [
        "df.info()"
      ],
      "execution_count": null,
      "outputs": [
        {
          "output_type": "stream",
          "text": [
            "<class 'pandas.core.frame.DataFrame'>\n",
            "RangeIndex: 7553 entries, 0 to 7552\n",
            "Data columns (total 3 columns):\n",
            " #   Column     Non-Null Count  Dtype \n",
            "---  ------     --------------  ----- \n",
            " 0   path       7553 non-null   object\n",
            " 1   file_name  7553 non-null   object\n",
            " 2   tag        7553 non-null   object\n",
            "dtypes: object(3)\n",
            "memory usage: 177.1+ KB\n"
          ],
          "name": "stdout"
        }
      ]
    },
    {
      "cell_type": "code",
      "metadata": {
        "colab": {
          "base_uri": "https://localhost:8080/",
          "height": 354
        },
        "id": "l9DKJlLH290E",
        "outputId": "7d507551-cb6e-4306-9726-ad062fad33df"
      },
      "source": [
        "import matplotlib.pyplot as plt\r\n",
        "import seaborn as sns\r\n",
        "\r\n",
        "sns.countplot(df.tag)\r\n",
        "plt.xlabel('Category')"
      ],
      "execution_count": null,
      "outputs": [
        {
          "output_type": "stream",
          "text": [
            "/usr/local/lib/python3.6/dist-packages/seaborn/_decorators.py:43: FutureWarning: Pass the following variable as a keyword arg: x. From version 0.12, the only valid positional argument will be `data`, and passing other arguments without an explicit keyword will result in an error or misinterpretation.\n",
            "  FutureWarning\n"
          ],
          "name": "stderr"
        },
        {
          "output_type": "execute_result",
          "data": {
            "text/plain": [
              "Text(0.5, 0, 'Category')"
            ]
          },
          "metadata": {
            "tags": []
          },
          "execution_count": 7
        },
        {
          "output_type": "display_data",
          "data": {
            "image/png": "[encoded data removed]",
            "text/plain": [
              "<Figure size 432x288 with 1 Axes>"
            ]
          },
          "metadata": {
            "tags": []
          }
        }
      ]
    },
    {
      "cell_type": "code",
      "metadata": {
        "colab": {
          "base_uri": "https://localhost:8080/",
          "height": 439
        },
        "id": "7uK4140To1S1",
        "outputId": "c89b0838-4b17-4e3b-c805-e424d5cf199d"
      },
      "source": [
        "df"
      ],
      "execution_count": null,
      "outputs": [
        {
          "output_type": "execute_result",
          "data": {
            "text/html": [
              "<div>\n",
              "<style scoped>\n",
              "    .dataframe tbody tr th:only-of-type {\n",
              "        vertical-align: middle;\n",
              "    }\n",
              "\n",
              "    .dataframe tbody tr th {\n",
              "        vertical-align: top;\n",
              "    }\n",
              "\n",
              "    .dataframe thead th {\n",
              "        text-align: right;\n",
              "    }\n",
              "</style>\n",
              "<table border=\"1\" class=\"dataframe\">\n",
              "  <thead>\n",
              "    <tr style=\"text-align: right;\">\n",
              "      <th></th>\n",
              "      <th>path</th>\n",
              "      <th>file_name</th>\n",
              "      <th>tag</th>\n",
              "    </tr>\n",
              "  </thead>\n",
              "  <tbody>\n",
              "    <tr>\n",
              "      <th>0</th>\n",
              "      <td>/content/data/without_mask/without_mask_351.jpg</td>\n",
              "      <td>without_mask_351.jpg</td>\n",
              "      <td>without_mask</td>\n",
              "    </tr>\n",
              "    <tr>\n",
              "      <th>1</th>\n",
              "      <td>/content/data/without_mask/without_mask_2139.jpg</td>\n",
              "      <td>without_mask_2139.jpg</td>\n",
              "      <td>without_mask</td>\n",
              "    </tr>\n",
              "    <tr>\n",
              "      <th>2</th>\n",
              "      <td>/content/data/without_mask/without_mask_1387.jpg</td>\n",
              "      <td>without_mask_1387.jpg</td>\n",
              "      <td>without_mask</td>\n",
              "    </tr>\n",
              "    <tr>\n",
              "      <th>3</th>\n",
              "      <td>/content/data/without_mask/without_mask_1115.jpg</td>\n",
              "      <td>without_mask_1115.jpg</td>\n",
              "      <td>without_mask</td>\n",
              "    </tr>\n",
              "    <tr>\n",
              "      <th>4</th>\n",
              "      <td>/content/data/without_mask/without_mask_2520.jpg</td>\n",
              "      <td>without_mask_2520.jpg</td>\n",
              "      <td>without_mask</td>\n",
              "    </tr>\n",
              "    <tr>\n",
              "      <th>...</th>\n",
              "      <td>...</td>\n",
              "      <td>...</td>\n",
              "      <td>...</td>\n",
              "    </tr>\n",
              "    <tr>\n",
              "      <th>7548</th>\n",
              "      <td>/content/data/with_mask/with_mask_2982.jpg</td>\n",
              "      <td>with_mask_2982.jpg</td>\n",
              "      <td>with_mask</td>\n",
              "    </tr>\n",
              "    <tr>\n",
              "      <th>7549</th>\n",
              "      <td>/content/data/with_mask/with_mask_508.jpg</td>\n",
              "      <td>with_mask_508.jpg</td>\n",
              "      <td>with_mask</td>\n",
              "    </tr>\n",
              "    <tr>\n",
              "      <th>7550</th>\n",
              "      <td>/content/data/with_mask/with_mask_664.jpg</td>\n",
              "      <td>with_mask_664.jpg</td>\n",
              "      <td>with_mask</td>\n",
              "    </tr>\n",
              "    <tr>\n",
              "      <th>7551</th>\n",
              "      <td>/content/data/with_mask/with_mask_2241.jpg</td>\n",
              "      <td>with_mask_2241.jpg</td>\n",
              "      <td>with_mask</td>\n",
              "    </tr>\n",
              "    <tr>\n",
              "      <th>7552</th>\n",
              "      <td>/content/data/with_mask/with_mask_2545.jpg</td>\n",
              "      <td>with_mask_2545.jpg</td>\n",
              "      <td>with_mask</td>\n",
              "    </tr>\n",
              "  </tbody>\n",
              "</table>\n",
              "<p>7553 rows × 3 columns</p>\n",
              "</div>"
            ],
            "text/plain": [
              "                                                  path  ...           tag\n",
              "0      /content/data/without_mask/without_mask_351.jpg  ...  without_mask\n",
              "1     /content/data/without_mask/without_mask_2139.jpg  ...  without_mask\n",
              "2     /content/data/without_mask/without_mask_1387.jpg  ...  without_mask\n",
              "3     /content/data/without_mask/without_mask_1115.jpg  ...  without_mask\n",
              "4     /content/data/without_mask/without_mask_2520.jpg  ...  without_mask\n",
              "...                                                ...  ...           ...\n",
              "7548        /content/data/with_mask/with_mask_2982.jpg  ...     with_mask\n",
              "7549         /content/data/with_mask/with_mask_508.jpg  ...     with_mask\n",
              "7550         /content/data/with_mask/with_mask_664.jpg  ...     with_mask\n",
              "7551        /content/data/with_mask/with_mask_2241.jpg  ...     with_mask\n",
              "7552        /content/data/with_mask/with_mask_2545.jpg  ...     with_mask\n",
              "\n",
              "[7553 rows x 3 columns]"
            ]
          },
          "metadata": {
            "tags": []
          },
          "execution_count": 8
        }
      ]
    },
    {
      "cell_type": "markdown",
      "metadata": {
        "id": "l2-UnM5pvBl3"
      },
      "source": [
        "## Split dataset"
      ]
    },
    {
      "cell_type": "code",
      "metadata": {
        "id": "aQiqrXNNo6EF"
      },
      "source": [
        "from sklearn.model_selection import train_test_split\r\n",
        "\r\n",
        "x = df['path']\r\n",
        "y = df['tag']\r\n",
        "\r\n",
        "x_train, x_test, y_train, y_test = train_test_split(\r\n",
        "    x,y, test_size= 0.2, random_state=1\r\n",
        ")"
      ],
      "execution_count": null,
      "outputs": []
    },
    {
      "cell_type": "code",
      "metadata": {
        "id": "tuvnH0EUpVcN"
      },
      "source": [
        "df_test = pd.DataFrame({\r\n",
        "    'path' : x_test,\r\n",
        "    'tag' : y_test,\r\n",
        "    'set' : 'test-set'\r\n",
        "})\r\n",
        "\r\n",
        "df_train = pd.DataFrame({\r\n",
        "    'path' : x_train,\r\n",
        "    'tag' : y_train,\r\n",
        "    'set' : 'train-set'\r\n",
        "})"
      ],
      "execution_count": null,
      "outputs": []
    },
    {
      "cell_type": "code",
      "metadata": {
        "colab": {
          "base_uri": "https://localhost:8080/"
        },
        "id": "hLzIdDfEpxxh",
        "outputId": "932a0430-aa89-4bae-a190-d39d7971578a"
      },
      "source": [
        "print('train size', len(df_train))\r\n",
        "print('test size', len(df_test))"
      ],
      "execution_count": null,
      "outputs": [
        {
          "output_type": "stream",
          "text": [
            "train size 6042\n",
            "test size 1511\n"
          ],
          "name": "stdout"
        }
      ]
    },
    {
      "cell_type": "code",
      "metadata": {
        "colab": {
          "base_uri": "https://localhost:8080/",
          "height": 360
        },
        "id": "ihmgsBnxrxt_",
        "outputId": "006f4bc7-cddb-4afc-fd08-944d1add69a1"
      },
      "source": [
        "df_all = df_train.append([df_test]).reset_index(drop=1)\r\n",
        "\r\n",
        "print('===================================================== \\n')\r\n",
        "print(df_all.groupby(['set','tag']).size(),'\\n')\r\n",
        "\r\n",
        "print('===================================================== \\n')\r\n",
        "\r\n",
        "df_all.sample(4)"
      ],
      "execution_count": null,
      "outputs": [
        {
          "output_type": "stream",
          "text": [
            "===================================================== \n",
            "\n",
            "set        tag         \n",
            "test-set   with_mask        744\n",
            "           without_mask     767\n",
            "train-set  with_mask       2981\n",
            "           without_mask    3061\n",
            "dtype: int64 \n",
            "\n",
            "===================================================== \n",
            "\n"
          ],
          "name": "stdout"
        },
        {
          "output_type": "execute_result",
          "data": {
            "text/html": [
              "<div>\n",
              "<style scoped>\n",
              "    .dataframe tbody tr th:only-of-type {\n",
              "        vertical-align: middle;\n",
              "    }\n",
              "\n",
              "    .dataframe tbody tr th {\n",
              "        vertical-align: top;\n",
              "    }\n",
              "\n",
              "    .dataframe thead th {\n",
              "        text-align: right;\n",
              "    }\n",
              "</style>\n",
              "<table border=\"1\" class=\"dataframe\">\n",
              "  <thead>\n",
              "    <tr style=\"text-align: right;\">\n",
              "      <th></th>\n",
              "      <th>path</th>\n",
              "      <th>tag</th>\n",
              "      <th>set</th>\n",
              "    </tr>\n",
              "  </thead>\n",
              "  <tbody>\n",
              "    <tr>\n",
              "      <th>2107</th>\n",
              "      <td>/content/data/with_mask/with_mask_3619.jpg</td>\n",
              "      <td>with_mask</td>\n",
              "      <td>train-set</td>\n",
              "    </tr>\n",
              "    <tr>\n",
              "      <th>2432</th>\n",
              "      <td>/content/data/without_mask/without_mask_2990.jpg</td>\n",
              "      <td>without_mask</td>\n",
              "      <td>train-set</td>\n",
              "    </tr>\n",
              "    <tr>\n",
              "      <th>1286</th>\n",
              "      <td>/content/data/with_mask/with_mask_2464.jpg</td>\n",
              "      <td>with_mask</td>\n",
              "      <td>train-set</td>\n",
              "    </tr>\n",
              "    <tr>\n",
              "      <th>1985</th>\n",
              "      <td>/content/data/with_mask/with_mask_1809.jpg</td>\n",
              "      <td>with_mask</td>\n",
              "      <td>train-set</td>\n",
              "    </tr>\n",
              "  </tbody>\n",
              "</table>\n",
              "</div>"
            ],
            "text/plain": [
              "                                                  path           tag        set\n",
              "2107        /content/data/with_mask/with_mask_3619.jpg     with_mask  train-set\n",
              "2432  /content/data/without_mask/without_mask_2990.jpg  without_mask  train-set\n",
              "1286        /content/data/with_mask/with_mask_2464.jpg     with_mask  train-set\n",
              "1985        /content/data/with_mask/with_mask_1809.jpg     with_mask  train-set"
            ]
          },
          "metadata": {
            "tags": []
          },
          "execution_count": 12
        }
      ]
    },
    {
      "cell_type": "markdown",
      "metadata": {
        "id": "Uy8i7hqpsxUI"
      },
      "source": [
        "## Move Dataset"
      ]
    },
    {
      "cell_type": "code",
      "metadata": {
        "id": "27cKcbh_r9Xn"
      },
      "source": [
        "import shutil\r\n",
        "from tqdm.notebook import tqdm as tq"
      ],
      "execution_count": null,
      "outputs": []
    },
    {
      "cell_type": "code",
      "metadata": {
        "id": "XzFYNUMvs30l"
      },
      "source": [
        "datasource_path = '/content/data'\r\n",
        "dataset_path = '/content/dataset'"
      ],
      "execution_count": null,
      "outputs": []
    },
    {
      "cell_type": "code",
      "metadata": {
        "colab": {
          "base_uri": "https://localhost:8080/",
          "height": 66,
          "referenced_widgets": [
            "3989de61769e4a3ebd7484640f2b2c3b",
            "ea9057039e1344bc9e1625db4bdc55ac",
            "ea152b3f28354aac8e25eaf3b5cba680",
            "93e50d56d6e44b15bd2d6026bb2fec1b",
            "e11e98bace934f958f2ad9bdfd8afb43",
            "2329b1ed55484c04941ff384bbc55ad9",
            "7abb674bbbb247aea2ee8326bc78a352",
            "0bb542e82cfa423da616125228f2a24b"
          ]
        },
        "id": "Z6cQoyhQtCGu",
        "outputId": "250ca418-2947-429f-fb66-a42b6b96a922"
      },
      "source": [
        "for index, row in tq(df_all.iterrows()):\r\n",
        "  file_path = row['path']\r\n",
        "\r\n",
        "  if os.path.exists(file_path) == False:\r\n",
        "    file_path = os.path.join(datasource_path, row['tag'], row['image'].split('.')[0])\r\n",
        "\r\n",
        "  if os.path.exists(os.path.join(dataset_path, row['set'], row['tag'])) == False:\r\n",
        "    os.makedirs(os.path.join(dataset_path, row['set'], row['tag']))\r\n",
        "  \r\n",
        "  destination_file_name = file_path.split('/')[-1]\r\n",
        "  file_dest = os.path.join(dataset_path, row['set'], row['tag'], destination_file_name)\r\n",
        "\r\n",
        "  if os.path.exists(file_dest) == False:\r\n",
        "    shutil.copy2(file_path, file_dest)"
      ],
      "execution_count": null,
      "outputs": [
        {
          "output_type": "display_data",
          "data": {
            "application/vnd.jupyter.widget-view+json": {
              "model_id": "3989de61769e4a3ebd7484640f2b2c3b",
              "version_major": 2,
              "version_minor": 0
            },
            "text/plain": [
              "HBox(children=(FloatProgress(value=1.0, bar_style='info', max=1.0), HTML(value='')))"
            ]
          },
          "metadata": {
            "tags": []
          }
        },
        {
          "output_type": "stream",
          "text": [
            "\n"
          ],
          "name": "stdout"
        }
      ]
    },
    {
      "cell_type": "markdown",
      "metadata": {
        "id": "9FZJvjFz5QUW"
      },
      "source": [
        "## Define Directory"
      ]
    },
    {
      "cell_type": "code",
      "metadata": {
        "id": "3ofeX38E5UF8"
      },
      "source": [
        "base_dir = '/content/dataset'\r\n",
        "train_dir = os.path.join(base_dir, 'train-set')\r\n",
        "test_dir = os.path.join(base_dir, 'test-set')"
      ],
      "execution_count": null,
      "outputs": []
    },
    {
      "cell_type": "code",
      "metadata": {
        "colab": {
          "base_uri": "https://localhost:8080/"
        },
        "id": "6S4wh1Ys5mxd",
        "outputId": "ef4e0d3c-d31a-4dff-e4fe-f1f6438b3ed0"
      },
      "source": [
        "os.listdir(train_dir)"
      ],
      "execution_count": null,
      "outputs": [
        {
          "output_type": "execute_result",
          "data": {
            "text/plain": [
              "['without_mask', 'with_mask']"
            ]
          },
          "metadata": {
            "tags": []
          },
          "execution_count": 17
        }
      ]
    },
    {
      "cell_type": "code",
      "metadata": {
        "colab": {
          "base_uri": "https://localhost:8080/"
        },
        "id": "D22HKzY95pDs",
        "outputId": "97d32837-589b-4751-9358-e4c8df8f4436"
      },
      "source": [
        "os.listdir(test_dir)"
      ],
      "execution_count": null,
      "outputs": [
        {
          "output_type": "execute_result",
          "data": {
            "text/plain": [
              "['without_mask', 'with_mask']"
            ]
          },
          "metadata": {
            "tags": []
          },
          "execution_count": 18
        }
      ]
    },
    {
      "cell_type": "code",
      "metadata": {
        "id": "7o-AFYia5uY8"
      },
      "source": [
        "train_without_mask_dir = os.path.join(train_dir, 'without_mask')\r\n",
        "train_with_mask_dir = os.path.join(train_dir, 'with_mask')\r\n",
        "test_without_mask_dir = os.path.join(test_dir, 'without_mask')\r\n",
        "test_with_mask_dir = os.path.join(test_dir, 'with_mask')"
      ],
      "execution_count": null,
      "outputs": []
    },
    {
      "cell_type": "markdown",
      "metadata": {
        "id": "fkZq_zMD2Qbu"
      },
      "source": [
        "## Image Augmentation"
      ]
    },
    {
      "cell_type": "code",
      "metadata": {
        "colab": {
          "base_uri": "https://localhost:8080/"
        },
        "id": "j6noxRUt6TZO",
        "outputId": "2be3c214-3ea6-4dec-d204-0d89ebf486d1"
      },
      "source": [
        "import tensorflow as tf\r\n",
        "from tensorflow.keras.optimizers import RMSprop\r\n",
        "from tensorflow.keras.preprocessing.image import ImageDataGenerator\r\n",
        "\r\n",
        "print(tf.__version__)"
      ],
      "execution_count": null,
      "outputs": [
        {
          "output_type": "stream",
          "text": [
            "2.4.0\n"
          ],
          "name": "stdout"
        }
      ]
    },
    {
      "cell_type": "code",
      "metadata": {
        "colab": {
          "base_uri": "https://localhost:8080/"
        },
        "id": "39-5ippavF3-",
        "outputId": "2dc84b69-3d03-44d1-83d6-726c31b0f796"
      },
      "source": [
        "train_datagen = ImageDataGenerator(\r\n",
        "    rescale = 1./255,\r\n",
        "    rotation_range = 90,\r\n",
        "    width_shift_range = 0.2,\r\n",
        "    height_shift_range=0.2,\r\n",
        "    shear_range=0.2,\r\n",
        "    zoom_range=0.2,\r\n",
        "    horizontal_flip=True,\r\n",
        "    fill_mode='nearest'\r\n",
        ")\r\n",
        "\r\n",
        "test_datagen = ImageDataGenerator(\r\n",
        "    rescale = 1./255,\r\n",
        ")\r\n",
        "\r\n",
        "train_generator = train_datagen.flow_from_directory(\r\n",
        "    train_dir,\r\n",
        "    target_size = (224, 224),\r\n",
        "    batch_size = 16,\r\n",
        "    class_mode = 'binary'\r\n",
        ")\r\n",
        "\r\n",
        "test_generator = test_datagen.flow_from_directory(\r\n",
        "    test_dir,\r\n",
        "    target_size = (224, 224),\r\n",
        "    batch_size = 16,\r\n",
        "    class_mode = 'binary'\r\n",
        ")"
      ],
      "execution_count": null,
      "outputs": [
        {
          "output_type": "stream",
          "text": [
            "Found 6042 images belonging to 2 classes.\n",
            "Found 1511 images belonging to 2 classes.\n"
          ],
          "name": "stdout"
        }
      ]
    },
    {
      "cell_type": "markdown",
      "metadata": {
        "id": "m3vUwNoU7Fwc"
      },
      "source": [
        "## Build CNN Model using Transfer Learning MobileNetV2"
      ]
    },
    {
      "cell_type": "code",
      "metadata": {
        "id": "0jm8R_hk8aZU"
      },
      "source": [
        "from tensorflow.keras.applications import MobileNetV2\r\n",
        "from tensorflow.keras.layers import Input"
      ],
      "execution_count": null,
      "outputs": []
    },
    {
      "cell_type": "code",
      "metadata": {
        "colab": {
          "base_uri": "https://localhost:8080/"
        },
        "id": "0rUmoJTx7E1V",
        "outputId": "270b094f-5ac3-4faa-9966-5f0a22144ad1"
      },
      "source": [
        "model = tf.keras.models.Sequential([\r\n",
        "    MobileNetV2(weights = \"imagenet\", include_top= False, input_tensor = Input(shape=(224,224,3))),\r\n",
        "    tf.keras.layers.Flatten(),\r\n",
        "    tf.keras.layers.Dense(256, activation='relu'),\r\n",
        "    tf.keras.layers.Dropout(0.5),\r\n",
        "    tf.keras.layers.Dense(128, activation='relu'),\r\n",
        "    tf.keras.layers.Dropout(0.5),\r\n",
        "    tf.keras.layers.Dense(1, activation='sigmoid')\r\n",
        "])\r\n",
        "\r\n",
        "model.summary()"
      ],
      "execution_count": null,
      "outputs": [
        {
          "output_type": "stream",
          "text": [
            "WARNING:tensorflow:`input_shape` is undefined or non-square, or `rows` is not in [96, 128, 160, 192, 224]. Weights for input shape (224, 224) will be loaded as the default.\n",
            "Downloading data from https://storage.googleapis.com/tensorflow/keras-applications/mobilenet_v2/mobilenet_v2_weights_tf_dim_ordering_tf_kernels_1.0_224_no_top.h5\n",
            "9412608/9406464 [==============================] - 0s 0us/step\n",
            "Model: \"sequential\"\n",
            "_________________________________________________________________\n",
            "Layer (type)                 Output Shape              Param #   \n",
            "=================================================================\n",
            "mobilenetv2_1.00_224 (Functi (None, 7, 7, 1280)        2257984   \n",
            "_________________________________________________________________\n",
            "flatten (Flatten)            (None, 62720)             0         \n",
            "_________________________________________________________________\n",
            "dense (Dense)                (None, 256)               16056576  \n",
            "_________________________________________________________________\n",
            "dropout (Dropout)            (None, 256)               0         \n",
            "_________________________________________________________________\n",
            "dense_1 (Dense)              (None, 128)               32896     \n",
            "_________________________________________________________________\n",
            "dropout_1 (Dropout)          (None, 128)               0         \n",
            "_________________________________________________________________\n",
            "dense_2 (Dense)              (None, 1)                 129       \n",
            "=================================================================\n",
            "Total params: 18,347,585\n",
            "Trainable params: 18,313,473\n",
            "Non-trainable params: 34,112\n",
            "_________________________________________________________________\n"
          ],
          "name": "stdout"
        }
      ]
    },
    {
      "cell_type": "code",
      "metadata": {
        "id": "Rg6u_RRGAzEz"
      },
      "source": [
        "class myCallback(tf.keras.callbacks.Callback):\r\n",
        "  def on_epoch_end(self, epoch, logs={}):\r\n",
        "    if(logs.get('accuracy')>0.97):\r\n",
        "      print('Akurasi mencapai 97%, proses training dihentikan!')\r\n",
        "      self.model.stop_training = True\r\n",
        "\r\n",
        "callbacks = myCallback()"
      ],
      "execution_count": null,
      "outputs": []
    },
    {
      "cell_type": "code",
      "metadata": {
        "colab": {
          "background_save": true,
          "base_uri": "https://localhost:8080/"
        },
        "id": "imu5fKTaBL4d",
        "outputId": "4d886388-440d-4be5-af6e-acdf32f066ba"
      },
      "source": [
        "from tensorflow.keras.optimizers import Adam\r\n",
        "\r\n",
        "opt = Adam(lr=1e-4)\r\n",
        "\r\n",
        "model.compile(\r\n",
        "    optimizer = opt,\r\n",
        "    loss = 'binary_crossentropy',\r\n",
        "    metrics = ['accuracy']\r\n",
        ")\r\n",
        "\r\n",
        "history = model.fit(\r\n",
        "    train_generator,\r\n",
        "    steps_per_epoch = 20,\r\n",
        "    epochs = 50,\r\n",
        "    validation_data = test_generator,\r\n",
        "    validation_steps = 3,\r\n",
        "    callbacks = [callbacks]\r\n",
        ")"
      ],
      "execution_count": null,
      "outputs": [
        {
          "output_type": "stream",
          "text": [
            "Epoch 1/50\n",
            "20/20 [==============================] - 72s 3s/step - loss: 1.0871 - accuracy: 0.5854 - val_loss: 0.2940 - val_accuracy: 0.8958\n",
            "Epoch 2/50\n",
            "20/20 [==============================] - 67s 3s/step - loss: 0.9433 - accuracy: 0.6940 - val_loss: 0.2494 - val_accuracy: 0.9167\n",
            "Epoch 3/50\n",
            "20/20 [==============================] - 67s 3s/step - loss: 0.6036 - accuracy: 0.7624 - val_loss: 0.1896 - val_accuracy: 0.9167\n",
            "Epoch 4/50\n",
            "20/20 [==============================] - 69s 3s/step - loss: 0.4730 - accuracy: 0.8149 - val_loss: 0.2299 - val_accuracy: 0.9167\n",
            "Epoch 5/50\n",
            "20/20 [==============================] - 66s 3s/step - loss: 0.4055 - accuracy: 0.8507 - val_loss: 0.0769 - val_accuracy: 0.9583\n",
            "Epoch 6/50\n",
            "20/20 [==============================] - 66s 3s/step - loss: 0.2385 - accuracy: 0.9148 - val_loss: 0.1212 - val_accuracy: 0.9583\n",
            "Epoch 7/50\n",
            "20/20 [==============================] - 66s 3s/step - loss: 0.2710 - accuracy: 0.8846 - val_loss: 0.0108 - val_accuracy: 1.0000\n",
            "Epoch 8/50\n",
            "16/20 [=======================>......] - ETA: 12s - loss: 0.1417 - accuracy: 0.9390"
          ],
          "name": "stdout"
        },
        {
          "output_type": "stream",
          "text": [
            "/usr/local/lib/python3.6/dist-packages/PIL/Image.py:932: UserWarning: Palette images with Transparency expressed in bytes should be converted to RGBA images\n",
            "  \"Palette images with Transparency expressed in bytes should be \"\n"
          ],
          "name": "stderr"
        },
        {
          "output_type": "stream",
          "text": [
            "20/20 [==============================] - 65s 3s/step - loss: 0.1412 - accuracy: 0.9394 - val_loss: 0.1743 - val_accuracy: 0.9583\n",
            "Epoch 9/50\n",
            "20/20 [==============================] - 66s 3s/step - loss: 0.1631 - accuracy: 0.9498 - val_loss: 0.1237 - val_accuracy: 0.9583\n",
            "Epoch 10/50\n",
            "20/20 [==============================] - 65s 3s/step - loss: 0.3197 - accuracy: 0.9245 - val_loss: 0.0081 - val_accuracy: 1.0000\n",
            "Epoch 11/50\n",
            "20/20 [==============================] - 66s 3s/step - loss: 0.2236 - accuracy: 0.9040 - val_loss: 0.0044 - val_accuracy: 1.0000\n",
            "Epoch 12/50\n",
            "20/20 [==============================] - 65s 3s/step - loss: 0.2070 - accuracy: 0.9442 - val_loss: 0.0401 - val_accuracy: 0.9792\n",
            "Epoch 13/50\n",
            "20/20 [==============================] - 69s 3s/step - loss: 0.1931 - accuracy: 0.9343 - val_loss: 0.1318 - val_accuracy: 0.9583\n",
            "Epoch 14/50\n",
            "20/20 [==============================] - 66s 3s/step - loss: 0.1408 - accuracy: 0.9560 - val_loss: 0.0684 - val_accuracy: 0.9792\n",
            "Epoch 15/50\n",
            "20/20 [==============================] - 67s 3s/step - loss: 0.1502 - accuracy: 0.9319 - val_loss: 0.0207 - val_accuracy: 0.9792\n",
            "Epoch 16/50\n",
            "20/20 [==============================] - 67s 3s/step - loss: 0.1463 - accuracy: 0.9373 - val_loss: 0.1675 - val_accuracy: 0.9792\n",
            "Epoch 17/50\n",
            "20/20 [==============================] - 65s 3s/step - loss: 0.1435 - accuracy: 0.9520 - val_loss: 0.0277 - val_accuracy: 0.9792\n",
            "Epoch 18/50\n",
            "20/20 [==============================] - 66s 3s/step - loss: 0.1241 - accuracy: 0.9532 - val_loss: 0.1184 - val_accuracy: 0.9792\n",
            "Epoch 19/50\n",
            "20/20 [==============================] - 66s 3s/step - loss: 0.1188 - accuracy: 0.9550 - val_loss: 0.2501 - val_accuracy: 0.9375\n",
            "Epoch 20/50\n",
            "20/20 [==============================] - 66s 3s/step - loss: 0.0665 - accuracy: 0.9726 - val_loss: 7.7947e-04 - val_accuracy: 1.0000\n",
            "Epoch 21/50\n",
            "20/20 [==============================] - 66s 3s/step - loss: 0.1688 - accuracy: 0.9269 - val_loss: 0.0562 - val_accuracy: 0.9583\n",
            "Epoch 22/50\n",
            "20/20 [==============================] - 69s 3s/step - loss: 0.1292 - accuracy: 0.9351 - val_loss: 0.2296 - val_accuracy: 0.9583\n",
            "Epoch 23/50\n",
            "20/20 [==============================] - 66s 3s/step - loss: 0.1303 - accuracy: 0.9454 - val_loss: 0.0490 - val_accuracy: 0.9792\n",
            "Epoch 24/50\n",
            "20/20 [==============================] - 66s 3s/step - loss: 0.1202 - accuracy: 0.9588 - val_loss: 0.1161 - val_accuracy: 0.9583\n",
            "Epoch 25/50\n",
            "20/20 [==============================] - 66s 3s/step - loss: 0.0908 - accuracy: 0.9677 - val_loss: 1.4759e-04 - val_accuracy: 1.0000\n",
            "Epoch 26/50\n",
            "20/20 [==============================] - 66s 3s/step - loss: 0.0657 - accuracy: 0.9707 - val_loss: 3.6425e-04 - val_accuracy: 1.0000\n",
            "Epoch 27/50\n",
            "20/20 [==============================] - 65s 3s/step - loss: 0.1120 - accuracy: 0.9629 - val_loss: 0.2143 - val_accuracy: 0.9583\n",
            "Epoch 28/50\n",
            "20/20 [==============================] - 66s 3s/step - loss: 0.0934 - accuracy: 0.9615 - val_loss: 6.8894e-04 - val_accuracy: 1.0000\n",
            "Epoch 29/50\n",
            "20/20 [==============================] - 66s 3s/step - loss: 0.0744 - accuracy: 0.9727 - val_loss: 0.0380 - val_accuracy: 0.9792\n",
            "Akurasi mencapai 97%, proses training dihentikan!\n"
          ],
          "name": "stdout"
        }
      ]
    },
    {
      "cell_type": "markdown",
      "metadata": {
        "id": "_3FuJ0GkPx5A"
      },
      "source": [
        "## Plot Train and Test"
      ]
    },
    {
      "cell_type": "code",
      "metadata": {
        "colab": {
          "base_uri": "https://localhost:8080/",
          "height": 545
        },
        "id": "quzTbqI7Pv5K",
        "outputId": "b7f268d6-5da4-4d18-f09c-90c060154756"
      },
      "source": [
        "acc = history.history['accuracy']\r\n",
        "val_acc = history.history['val_accuracy']\r\n",
        "loss = history.history['loss']\r\n",
        "val_loss = history.history['val_loss']\r\n",
        "\r\n",
        "epochs = range(len(acc))\r\n",
        "\r\n",
        "plt.plot(epochs, acc, 'blue', label='Training accuracy')\r\n",
        "plt.plot(epochs, val_acc, 'orange', label='Validation accuracy')\r\n",
        "plt.title('Training and validation accuracy')\r\n",
        "plt.legend()\r\n",
        "plt.figure()\r\n",
        "\r\n",
        "plt.plot(epochs, loss, 'blue', label='Training Loss')\r\n",
        "plt.plot(epochs, val_loss, 'orange', label='Validation Loss')\r\n",
        "plt.title('Training and validation loss')\r\n",
        "plt.legend()\r\n",
        "\r\n",
        "plt.show()"
      ],
      "execution_count": null,
      "outputs": [
        {
          "output_type": "display_data",
          "data": {
            "image/png": "[encoded data removed]",
            "text/plain": [
              "<Figure size 432x288 with 1 Axes>"
            ]
          },
          "metadata": {
            "tags": []
          }
        },
        {
          "output_type": "display_data",
          "data": {
            "image/png": "[encoded data removed]",
            "text/plain": [
              "<Figure size 432x288 with 1 Axes>"
            ]
          },
          "metadata": {
            "tags": []
          }
        }
      ]
    },
    {
      "cell_type": "markdown",
      "metadata": {
        "id": "jenLbRfuSXJZ"
      },
      "source": [
        "## Predict"
      ]
    },
    {
      "cell_type": "code",
      "metadata": {
        "colab": {
          "resources": {
            "http://localhost:8080/nbextensions/google.colab/files.js": {
              "data": "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",
              "headers": [
                [
                  "content-type",
                  "application/javascript"
                ]
              ],
              "ok": true,
              "status": 200,
              "status_text": ""
            }
          },
          "base_uri": "https://localhost:8080/",
          "height": 320
        },
        "id": "nSjamZdyR6pa",
        "outputId": "9726eb4b-1d54-47b0-e286-2dc4ada21bd2"
      },
      "source": [
        "from google.colab import files\r\n",
        "from keras.preprocessing import image\r\n",
        "import numpy as np\r\n",
        "\r\n",
        "uploaded = files.upload()\r\n",
        "\r\n",
        "for fn in uploaded.keys():\r\n",
        "  path = fn\r\n",
        "  img = image.load_img(path,target_size=(224,224))\r\n",
        "  plt.imshow(img)\r\n",
        "  plt.axis('off')\r\n",
        "  plt.show()\r\n",
        "\r\n",
        "  img = np.array(img, dtype='float')\r\n",
        "  img = img.reshape(1, 224, 224, 3)\r\n",
        "  prediksi = model.predict(img)\r\n",
        "  idx = prediksi[0][0]\r\n",
        "  if (idx):\r\n",
        "      print(\"Not Wearing Masker\")\r\n",
        "  else:\r\n",
        "      print(\"Wearing Masker\")"
      ],
      "execution_count": null,
      "outputs": [
        {
          "output_type": "display_data",
          "data": {
            "text/html": [
              "\n",
              "     <input type=\"file\" id=\"files-ead8aef5-479f-4bd7-baef-9be2667c48d4\" name=\"files[]\" multiple disabled\n",
              "        style=\"border:none\" />\n",
              "     <output id=\"result-ead8aef5-479f-4bd7-baef-9be2667c48d4\">\n",
              "      Upload widget is only available when the cell has been executed in the\n",
              "      current browser session. Please rerun this cell to enable.\n",
              "      </output>\n",
              "      <script src=\"/nbextensions/google.colab/files.js\"></script> "
            ],
            "text/plain": [
              "<IPython.core.display.HTML object>"
            ]
          },
          "metadata": {
            "tags": []
          }
        },
        {
          "output_type": "stream",
          "text": [
            "Saving pp.jpeg to pp.jpeg\n"
          ],
          "name": "stdout"
        },
        {
          "output_type": "display_data",
          "data": {
            "image/png": "[encoded data removed]",
            "text/plain": [
              "<Figure size 432x288 with 1 Axes>"
            ]
          },
          "metadata": {
            "tags": []
          }
        },
        {
          "output_type": "stream",
          "text": [
            "Not Wearing Masker\n"
          ],
          "name": "stdout"
        }
      ]
    },
    {
      "cell_type": "markdown",
      "metadata": {
        "id": "e10LmqRbRXZh"
      },
      "source": [
        "## Save model"
      ]
    },
    {
      "cell_type": "code",
      "metadata": {
        "id": "bQCrtoySTvCA"
      },
      "source": [
        "model.save(\"/content/model.h5\")"
      ],
      "execution_count": null,
      "outputs": []
    }
  ]
}